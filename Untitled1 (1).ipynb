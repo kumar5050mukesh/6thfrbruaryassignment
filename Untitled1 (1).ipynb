{
 "cells": [
  {
   "cell_type": "code",
   "execution_count": 1,
   "id": "40cada8d-85b0-4864-8d21-947cbda373d2",
   "metadata": {},
   "outputs": [
    {
     "name": "stdout",
     "output_type": "stream",
     "text": [
      "[1, 2, 3, 4, 44, 55, 66, True, False, 34, 56, 78, 89, 34, 1, 2, 3, 34, [55, 67, 78, 89], (45, 22, 61, 34), 1, 'key2', 4, 56, 'data science', 'Machine Learning']\n"
     ]
    }
   ],
   "source": [
    "list1 = [1,2,3,4, [44,55,66, True], False, (34,56,78,89,34), {1,2,3,3,2,1}, {1:34, \"key2\": [55, 67, 78, 89], 4: (45,\n",
    "22, 61, 34)}, [56, 'data science'], 'Machine Learning']\n",
    "\n",
    "\n",
    "empty_arr=[]\n",
    "\n",
    "def test1():\n",
    "    for i in list1:\n",
    "        if type(i)==set:\n",
    "            empty_arr.extend (list(i))\n",
    "        elif type(i)==list:\n",
    "            empty_arr.extend (i) \n",
    "        elif type(i)==tuple:\n",
    "            empty_arr.extend (list(i))\n",
    "        elif type(i)==dict:\n",
    "            empty_arr.extend(i.values())\n",
    "            empty_arr.extend(i.keys())\n",
    "        else:\n",
    "            empty_arr.append(i)\n",
    "        \n",
    "    return empty_arr\n",
    "print(list(test1()))\n"
   ]
  },
  {
   "cell_type": "code",
   "execution_count": 2,
   "id": "01517bfd-2c34-4cfb-af6e-d10772d19805",
   "metadata": {},
   "outputs": [
    {
     "name": "stdin",
     "output_type": "stream",
     "text": [
      "please enter your message I want to become a Data Scientist.\n"
     ]
    },
    {
     "name": "stdout",
     "output_type": "stream",
     "text": [
      "Encrypted message:  r$dzmg$gl$yvxlnv$z$wzgz$hxrvmgrhg.\n"
     ]
    }
   ],
   "source": [
    "keys=[]\n",
    "[ keys.append(chr(i)) for i in range(97,123)]\n",
    "values=keys[::-1]\n",
    "result = {keys[i]: values[i] for i in range(len(keys))}\n",
    "\n",
    "a=input('please enter your message')\n",
    "msg=a.lower()\n",
    "def encrypt_(msg):\n",
    "       \n",
    "    e_msg = ''\n",
    "    for i in msg:\n",
    "        if i.isalpha():\n",
    "            e_msg =e_msg+ result[i]\n",
    "        elif i.isspace():\n",
    "            e_msg =e_msg+ '$'\n",
    "        else:\n",
    "            e_msg=e_msg+ i\n",
    "    return e_msg\n",
    "\n",
    "\n",
    "w = encrypt_(msg)\n",
    "print(\"Encrypted message: \", w)\n"
   ]
  },
  {
   "cell_type": "code",
   "execution_count": null,
   "id": "85e84298-bbda-4708-8bc9-35704609065d",
   "metadata": {},
   "outputs": [],
   "source": []
  }
 ],
 "metadata": {
  "kernelspec": {
   "display_name": "Python 3 (ipykernel)",
   "language": "python",
   "name": "python3"
  },
  "language_info": {
   "codemirror_mode": {
    "name": "ipython",
    "version": 3
   },
   "file_extension": ".py",
   "mimetype": "text/x-python",
   "name": "python",
   "nbconvert_exporter": "python",
   "pygments_lexer": "ipython3",
   "version": "3.10.8"
  }
 },
 "nbformat": 4,
 "nbformat_minor": 5
}
