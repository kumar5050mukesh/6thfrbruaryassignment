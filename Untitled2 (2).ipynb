{
 "cells": [
  {
   "cell_type": "code",
   "execution_count": 2,
   "id": "abcff3bc-173a-4378-b10e-3008d1deb744",
   "metadata": {},
   "outputs": [
    {
     "name": "stdout",
     "output_type": "stream",
     "text": [
      "[1, 2, 3, 4, 44, 55, 66, True, False, 34, 56, 78, 89, 34, 1, 2, 3, 34, [55, 67, 78, 89], (45, 22, 61, 34), 1, 'key2', 4, 56, 'data science', 'Machine Learning']\n"
     ]
    }
   ],
   "source": [
    "list1 = [1,2,3,4, [44,55,66, True], False, (34,56,78,89,34), {1,2,3,3,2,1}, {1:34, \"key2\": [55, 67, 78, 89], 4: (45,\n",
    "22, 61, 34)}, [56, 'data science'], 'Machine Learning']\n",
    "\n",
    "\n",
    "empty_arr=[]\n",
    "\n",
    "def test1():\n",
    "    for i in list1:\n",
    "        if type(i)==set:\n",
    "            empty_arr.extend (list(i))\n",
    "        elif type(i)==list:\n",
    "            empty_arr.extend (i) \n",
    "        elif type(i)==tuple:\n",
    "            empty_arr.extend (list(i))\n",
    "        elif type(i)==dict:\n",
    "            empty_arr.extend(i.values())\n",
    "            empty_arr.extend(i.keys())\n",
    "        else:\n",
    "            empty_arr.append(i)\n",
    "        \n",
    "    return empty_arr\n",
    "print(list(test1()))"
   ]
  },
  {
   "cell_type": "code",
   "execution_count": 7,
   "id": "47900cb1-2054-4def-854f-7b5c724be148",
   "metadata": {},
   "outputs": [],
   "source": [
    "z=list(filter(lambda x: x if type(x)==int else None  ,empty_arr))"
   ]
  },
  {
   "cell_type": "code",
   "execution_count": 8,
   "id": "efc39b75-a1c0-4d51-88b9-9098327ce72d",
   "metadata": {},
   "outputs": [
    {
     "data": {
      "text/plain": [
       "[1, 2, 3, 4, 44, 55, 66, 34, 56, 78, 89, 34, 1, 2, 3, 34, 1, 4, 56]"
      ]
     },
     "execution_count": 8,
     "metadata": {},
     "output_type": "execute_result"
    }
   ],
   "source": [
    "z"
   ]
  },
  {
   "cell_type": "code",
   "execution_count": 10,
   "id": "5a6d951e-238e-43ac-9534-696333af42cb",
   "metadata": {},
   "outputs": [],
   "source": [
    "from functools import reduce\n",
    "w= reduce(lambda x,y:x*y,z)"
   ]
  },
  {
   "cell_type": "code",
   "execution_count": 11,
   "id": "305c2e5e-6a20-4254-ac94-4162ddf31a85",
   "metadata": {},
   "outputs": [
    {
     "data": {
      "text/plain": [
       "78718933113238978560"
      ]
     },
     "execution_count": 11,
     "metadata": {},
     "output_type": "execute_result"
    }
   ],
   "source": [
    "w"
   ]
  },
  {
   "cell_type": "code",
   "execution_count": 12,
   "id": "91b62dfa-4a5d-411a-8f05-3f1952e2e3ac",
   "metadata": {},
   "outputs": [
    {
     "name": "stdin",
     "output_type": "stream",
     "text": [
      "please enter your message I want to become a Data Scientist.\n"
     ]
    },
    {
     "name": "stdout",
     "output_type": "stream",
     "text": [
      "Encrypted message:  r$dzmg$gl$yvxlnv$z$wzgz$hxrvmgrhg.\n"
     ]
    }
   ],
   "source": [
    "keys=[]\n",
    "[ keys.append(chr(i)) for i in range(97,123)]\n",
    "values=keys[::-1]\n",
    "result = {keys[i]: values[i] for i in range(len(keys))}\n",
    "\n",
    "a=input('please enter your message')\n",
    "msg=a.lower()\n",
    "def encrypt_(msg):\n",
    "       \n",
    "    e_msg = ''\n",
    "    for i in msg:\n",
    "        if i.isalpha():\n",
    "            e_msg =e_msg+ result[i]\n",
    "        elif i.isspace():\n",
    "            e_msg =e_msg+ '$'\n",
    "        else:\n",
    "            e_msg=e_msg+ i\n",
    "    return e_msg\n",
    "\n",
    "\n",
    "w = encrypt_(msg)\n",
    "print(\"Encrypted message: \", w)\n"
   ]
  },
  {
   "cell_type": "code",
   "execution_count": null,
   "id": "7b0ff0c9-4753-4eab-a382-6787a61e98c9",
   "metadata": {},
   "outputs": [],
   "source": []
  }
 ],
 "metadata": {
  "kernelspec": {
   "display_name": "Python 3 (ipykernel)",
   "language": "python",
   "name": "python3"
  },
  "language_info": {
   "codemirror_mode": {
    "name": "ipython",
    "version": 3
   },
   "file_extension": ".py",
   "mimetype": "text/x-python",
   "name": "python",
   "nbconvert_exporter": "python",
   "pygments_lexer": "ipython3",
   "version": "3.10.8"
  }
 },
 "nbformat": 4,
 "nbformat_minor": 5
}
