{
 "cells": [
  {
   "cell_type": "code",
   "execution_count": 1,
   "id": "db2126ed-6ce9-40ff-bd99-b44d3166fcae",
   "metadata": {},
   "outputs": [
    {
     "name": "stdout",
     "output_type": "stream",
     "text": [
      "['n', 'b', 'm', 'z', 'n', 'v', 'r', 'h', 'n', 'f', 'p', 'v', 'h', 's']\n",
      "nbmznvrhnfpvhs\n"
     ]
    }
   ],
   "source": [
    "d = []\n",
    "[d.append(chr(i)) for i in range(97,123)]\n",
    "\n",
    "list2 = d[::-1]\n",
    "\n",
    "result = dict(map(lambda x, y: (x, y), d, list2))\n",
    "\n",
    "dog = ''\n",
    "msg = 'mynameismukesh'\n",
    "\n",
    "result = [dog + result[i] for i in msg]\n",
    "print(result)\n",
    "\n",
    "from functools import reduce\n",
    "x=reduce(lambda x,y:x+y,result)\n",
    "print(x)\n",
    "\n",
    "\n"
   ]
  },
  {
   "cell_type": "code",
   "execution_count": null,
   "id": "9a68737b-51b7-4905-bce7-74c1ed8ac3a1",
   "metadata": {},
   "outputs": [],
   "source": []
  }
 ],
 "metadata": {
  "kernelspec": {
   "display_name": "Python 3 (ipykernel)",
   "language": "python",
   "name": "python3"
  },
  "language_info": {
   "codemirror_mode": {
    "name": "ipython",
    "version": 3
   },
   "file_extension": ".py",
   "mimetype": "text/x-python",
   "name": "python",
   "nbconvert_exporter": "python",
   "pygments_lexer": "ipython3",
   "version": "3.10.8"
  }
 },
 "nbformat": 4,
 "nbformat_minor": 5
}
